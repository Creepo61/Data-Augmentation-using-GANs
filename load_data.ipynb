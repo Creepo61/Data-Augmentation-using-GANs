{
 "cells": [
  {
   "cell_type": "code",
   "execution_count": 6,
   "metadata": {},
   "outputs": [],
   "source": [
    "# load, split and scale the maps dataset ready for training\n",
    "from os import listdir\n",
    "from numpy import asarray\n",
    "from keras.preprocessing.image import img_to_array\n",
    "from keras.preprocessing.image import load_img\n",
    "from numpy import savez_compressed\n",
    "\n",
    "path_default = r\"C:\\Users\\burak.altin\\OneDrive - Hypoport SE\\desktop\\data_set\\trainA\"\n",
    "path_rainy = r\"C:\\Users\\burak.altin\\OneDrive - Hypoport SE\\desktop\\data_set\\trainB\"\n",
    "seeds = [str.replace(x, \"default_\", \"\") for x in listdir(path_default)]"
   ]
  },
  {
   "cell_type": "code",
   "execution_count": 10,
   "metadata": {},
   "outputs": [
    {
     "name": "stdout",
     "output_type": "stream",
     "text": [
      "Loaded:  (50, 256, 512, 3) (50, 256, 512, 3)\n",
      "Saved dataset:  C:\\Users\\burak.altin\\OneDrive - Hypoport SE\\desktop\\data_set\\new_dataset3.npz\n"
     ]
    }
   ],
   "source": [
    "def load_images(path_default, path_rainy, seeds, size=(256, 256)):\n",
    "\tsrc_list, tar_list = list(), list()\n",
    "\t# enumerate filenames in directory, assume all are images\n",
    "\tfor s in seeds:\n",
    "\t\t# load and resize the image\n",
    "\t\tpixels1 = load_img(path_default + \"\\\\default_\" + s, target_size=size)\n",
    "\t\tpixels2  = load_img(path_rainy + \"\\\\rainy_\" + s, target_size=size)\n",
    "\t\t# convert to numpy array\n",
    "\t\tpixels1 = img_to_array(pixels1)\n",
    "\t\tpixels2 = img_to_array(pixels2)\n",
    "\t\t# split into satellite and map\n",
    "\t\tsat_img = pixels1\n",
    "\t\tmap_img = pixels2\n",
    "\t\tsrc_list.append(sat_img)\n",
    "\t\ttar_list.append(map_img)\n",
    "\treturn [asarray(src_list), asarray(tar_list)]\n",
    "\n",
    "# dataset path\n",
    "#path = \"C:/Users/Administrador/GANs Folder/train merged 2/\"\n",
    "# load dataset\n",
    "[src_images, tar_images] = load_images(path_default=path_default, path_rainy= path_rainy, seeds=seeds)\n",
    "print('Loaded: ', src_images.shape, tar_images.shape)\n",
    "# save as compressed numpy array\n",
    "filename = r\"C:\\Users\\burak.altin\\OneDrive - Hypoport SE\\desktop\\data_set\\new_dataset3.npz\"\n",
    "savez_compressed(filename, src_images, tar_images)\n",
    "print('Saved dataset: ', filename)"
   ]
  }
 ],
 "metadata": {
  "kernelspec": {
   "display_name": "Python 3",
   "language": "python",
   "name": "python3"
  },
  "language_info": {
   "codemirror_mode": {
    "name": "ipython",
    "version": 3
   },
   "file_extension": ".py",
   "mimetype": "text/x-python",
   "name": "python",
   "nbconvert_exporter": "python",
   "pygments_lexer": "ipython3",
   "version": "3.11.5"
  },
  "orig_nbformat": 4
 },
 "nbformat": 4,
 "nbformat_minor": 2
}
